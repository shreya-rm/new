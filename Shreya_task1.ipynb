{
  "nbformat": 4,
  "nbformat_minor": 0,
  "metadata": {
    "colab": {
      "name": "THE SPARKS FOUNDATION.ipynb",
      "provenance": [],
      "collapsed_sections": [],
      "authorship_tag": "ABX9TyMPKMMOD0YmWUJm+3mzp8xD",
      "include_colab_link": true
    },
    "kernelspec": {
      "name": "python3",
      "display_name": "Python 3"
    },
    "language_info": {
      "name": "python"
    }
  },
  "cells": [
    {
      "cell_type": "markdown",
      "metadata": {
        "id": "view-in-github",
        "colab_type": "text"
      },
      "source": [
        "<a href=\"https://colab.research.google.com/github/shreya-rm/new/blob/main/Shreya_task1.ipynb\" target=\"_parent\"><img src=\"https://colab.research.google.com/assets/colab-badge.svg\" alt=\"Open In Colab\"/></a>"
      ]
    },
    {
      "cell_type": "markdown",
      "metadata": {
        "id": "UCHfY1fTB3YA"
      },
      "source": [
        "# THE SPARKS FOUNDATION\n",
        "\n",
        "**GRADUAL ROATATIONAL INTERNSHIP PROGRAM**"
      ]
    },
    {
      "cell_type": "markdown",
      "metadata": {
        "id": "vW_qYCClFE0f"
      },
      "source": [
        "**DATA SCIENCE AND BUISNESS ANANYTICS**"
      ]
    },
    {
      "cell_type": "markdown",
      "metadata": {
        "id": "RfJm5GnAFR5r"
      },
      "source": [
        "*NAME : SHREYA RM*\n",
        "\n",
        "*TASK : Predict the percentage of the student based on the number of hours of study*\n",
        "\n",
        "*TASK QUESTION : What will be the predicted score if a student studies for 9.25 hrs/day ?*"
      ]
    },
    {
      "cell_type": "markdown",
      "metadata": {
        "id": "F8a1jAH8F5Bt"
      },
      "source": [
        "**Importing the Libraries**"
      ]
    },
    {
      "cell_type": "code",
      "metadata": {
        "id": "cBr86_2kCBR2"
      },
      "source": [
        "#IMPORTING ALL THE LIBRARIES REQUIRED IN THIS NOTEBOOK\n",
        "import pandas as pd\n",
        "import numpy as np\n",
        "import matplotlib.pyplot as plt\n",
        "from sklearn.linear_model import LinearRegression\n",
        "from sklearn.model_selection import train_test_split\n",
        "from sklearn.metrics import accuracy_score\n",
        "%matplotlib inline\n",
        "\n"
      ],
      "execution_count": 55,
      "outputs": []
    },
    {
      "cell_type": "markdown",
      "metadata": {
        "id": "CXEqkOtIF_Ml"
      },
      "source": [
        "**Importing the Data**"
      ]
    },
    {
      "cell_type": "code",
      "metadata": {
        "colab": {
          "base_uri": "https://localhost:8080/",
          "height": 836
        },
        "id": "c213OWMeC8OU",
        "outputId": "2805c876-e98f-4843-a0c9-5d590ece2c39"
      },
      "source": [
        "#IMPORTING THE DATA \n",
        "data=pd.read_csv('http://bit.ly/w-data')\n",
        "print(\"Data imported successfully\")\n",
        "data.iloc[0:25]\n"
      ],
      "execution_count": 56,
      "outputs": [
        {
          "output_type": "stream",
          "name": "stdout",
          "text": [
            "Data imported successfully\n"
          ]
        },
        {
          "output_type": "execute_result",
          "data": {
            "text/html": [
              "<div>\n",
              "<style scoped>\n",
              "    .dataframe tbody tr th:only-of-type {\n",
              "        vertical-align: middle;\n",
              "    }\n",
              "\n",
              "    .dataframe tbody tr th {\n",
              "        vertical-align: top;\n",
              "    }\n",
              "\n",
              "    .dataframe thead th {\n",
              "        text-align: right;\n",
              "    }\n",
              "</style>\n",
              "<table border=\"1\" class=\"dataframe\">\n",
              "  <thead>\n",
              "    <tr style=\"text-align: right;\">\n",
              "      <th></th>\n",
              "      <th>Hours</th>\n",
              "      <th>Scores</th>\n",
              "    </tr>\n",
              "  </thead>\n",
              "  <tbody>\n",
              "    <tr>\n",
              "      <th>0</th>\n",
              "      <td>2.5</td>\n",
              "      <td>21</td>\n",
              "    </tr>\n",
              "    <tr>\n",
              "      <th>1</th>\n",
              "      <td>5.1</td>\n",
              "      <td>47</td>\n",
              "    </tr>\n",
              "    <tr>\n",
              "      <th>2</th>\n",
              "      <td>3.2</td>\n",
              "      <td>27</td>\n",
              "    </tr>\n",
              "    <tr>\n",
              "      <th>3</th>\n",
              "      <td>8.5</td>\n",
              "      <td>75</td>\n",
              "    </tr>\n",
              "    <tr>\n",
              "      <th>4</th>\n",
              "      <td>3.5</td>\n",
              "      <td>30</td>\n",
              "    </tr>\n",
              "    <tr>\n",
              "      <th>5</th>\n",
              "      <td>1.5</td>\n",
              "      <td>20</td>\n",
              "    </tr>\n",
              "    <tr>\n",
              "      <th>6</th>\n",
              "      <td>9.2</td>\n",
              "      <td>88</td>\n",
              "    </tr>\n",
              "    <tr>\n",
              "      <th>7</th>\n",
              "      <td>5.5</td>\n",
              "      <td>60</td>\n",
              "    </tr>\n",
              "    <tr>\n",
              "      <th>8</th>\n",
              "      <td>8.3</td>\n",
              "      <td>81</td>\n",
              "    </tr>\n",
              "    <tr>\n",
              "      <th>9</th>\n",
              "      <td>2.7</td>\n",
              "      <td>25</td>\n",
              "    </tr>\n",
              "    <tr>\n",
              "      <th>10</th>\n",
              "      <td>7.7</td>\n",
              "      <td>85</td>\n",
              "    </tr>\n",
              "    <tr>\n",
              "      <th>11</th>\n",
              "      <td>5.9</td>\n",
              "      <td>62</td>\n",
              "    </tr>\n",
              "    <tr>\n",
              "      <th>12</th>\n",
              "      <td>4.5</td>\n",
              "      <td>41</td>\n",
              "    </tr>\n",
              "    <tr>\n",
              "      <th>13</th>\n",
              "      <td>3.3</td>\n",
              "      <td>42</td>\n",
              "    </tr>\n",
              "    <tr>\n",
              "      <th>14</th>\n",
              "      <td>1.1</td>\n",
              "      <td>17</td>\n",
              "    </tr>\n",
              "    <tr>\n",
              "      <th>15</th>\n",
              "      <td>8.9</td>\n",
              "      <td>95</td>\n",
              "    </tr>\n",
              "    <tr>\n",
              "      <th>16</th>\n",
              "      <td>2.5</td>\n",
              "      <td>30</td>\n",
              "    </tr>\n",
              "    <tr>\n",
              "      <th>17</th>\n",
              "      <td>1.9</td>\n",
              "      <td>24</td>\n",
              "    </tr>\n",
              "    <tr>\n",
              "      <th>18</th>\n",
              "      <td>6.1</td>\n",
              "      <td>67</td>\n",
              "    </tr>\n",
              "    <tr>\n",
              "      <th>19</th>\n",
              "      <td>7.4</td>\n",
              "      <td>69</td>\n",
              "    </tr>\n",
              "    <tr>\n",
              "      <th>20</th>\n",
              "      <td>2.7</td>\n",
              "      <td>30</td>\n",
              "    </tr>\n",
              "    <tr>\n",
              "      <th>21</th>\n",
              "      <td>4.8</td>\n",
              "      <td>54</td>\n",
              "    </tr>\n",
              "    <tr>\n",
              "      <th>22</th>\n",
              "      <td>3.8</td>\n",
              "      <td>35</td>\n",
              "    </tr>\n",
              "    <tr>\n",
              "      <th>23</th>\n",
              "      <td>6.9</td>\n",
              "      <td>76</td>\n",
              "    </tr>\n",
              "    <tr>\n",
              "      <th>24</th>\n",
              "      <td>7.8</td>\n",
              "      <td>86</td>\n",
              "    </tr>\n",
              "  </tbody>\n",
              "</table>\n",
              "</div>"
            ],
            "text/plain": [
              "    Hours  Scores\n",
              "0     2.5      21\n",
              "1     5.1      47\n",
              "2     3.2      27\n",
              "3     8.5      75\n",
              "4     3.5      30\n",
              "5     1.5      20\n",
              "6     9.2      88\n",
              "7     5.5      60\n",
              "8     8.3      81\n",
              "9     2.7      25\n",
              "10    7.7      85\n",
              "11    5.9      62\n",
              "12    4.5      41\n",
              "13    3.3      42\n",
              "14    1.1      17\n",
              "15    8.9      95\n",
              "16    2.5      30\n",
              "17    1.9      24\n",
              "18    6.1      67\n",
              "19    7.4      69\n",
              "20    2.7      30\n",
              "21    4.8      54\n",
              "22    3.8      35\n",
              "23    6.9      76\n",
              "24    7.8      86"
            ]
          },
          "metadata": {},
          "execution_count": 56
        }
      ]
    },
    {
      "cell_type": "markdown",
      "metadata": {
        "id": "sjDUq_4lGEa4"
      },
      "source": [
        "**Plotting the Graph**"
      ]
    },
    {
      "cell_type": "code",
      "metadata": {
        "colab": {
          "base_uri": "https://localhost:8080/",
          "height": 279
        },
        "id": "tjeoSkisEbUh",
        "outputId": "44ff333c-fca1-4d88-a70e-b1b3ebcb8bd1"
      },
      "source": [
        "#PLOTTING THE DISTRIBUTION OF SCORES\n",
        "plt.scatter(data.Hours,data.Scores)\n",
        "plt.xlabel(\"Number of hours studied\")\n",
        "plt.ylabel(\"marks achieved\")\n",
        "plt.grid()\n"
      ],
      "execution_count": 57,
      "outputs": [
        {
          "output_type": "display_data",
          "data": {
            "image/png": "[encoded data removed]",
            "text/plain": [
              "<Figure size 432x288 with 1 Axes>"
            ]
          },
          "metadata": {
            "needs_background": "light"
          }
        }
      ]
    },
    {
      "cell_type": "markdown",
      "metadata": {
        "id": "MmB4GnhhJ5Z-"
      },
      "source": [
        "**PREPARING THE DATA** \n",
        "\n",
        "*The next step is to divide the data into 'Attributes'(Inputs) and 'Labels' (Outputs)*"
      ]
    },
    {
      "cell_type": "markdown",
      "metadata": {
        "id": "fJOm-6CSGQT7"
      },
      "source": [
        "**To select specific rows and columns from dataset**"
      ]
    },
    {
      "cell_type": "code",
      "metadata": {
        "id": "F002LcQWE89f"
      },
      "source": [
        "x = data.iloc[:,:-1].values\n",
        "y = data.iloc[:,1].values"
      ],
      "execution_count": 58,
      "outputs": []
    },
    {
      "cell_type": "markdown",
      "metadata": {
        "id": "xkenlrZdKZ4s"
      },
      "source": [
        "*Now that we have our Attributes and labels, the next step is to split this data into train and test sets. We'll do this by using Scikit-Learn's built-in train_test_split() method.*"
      ]
    },
    {
      "cell_type": "code",
      "metadata": {
        "colab": {
          "base_uri": "https://localhost:8080/"
        },
        "id": "RpUWa9gnFQVY",
        "outputId": "2ba8ce04-f922-45f7-d50b-f06fd81574f4"
      },
      "source": [
        "x[0:5]"
      ],
      "execution_count": 59,
      "outputs": [
        {
          "output_type": "execute_result",
          "data": {
            "text/plain": [
              "array([[2.5],\n",
              "       [5.1],\n",
              "       [3.2],\n",
              "       [8.5],\n",
              "       [3.5]])"
            ]
          },
          "metadata": {},
          "execution_count": 59
        }
      ]
    },
    {
      "cell_type": "code",
      "metadata": {
        "colab": {
          "base_uri": "https://localhost:8080/"
        },
        "id": "GUQFPWm6FZQS",
        "outputId": "e81bf408-5700-4521-fa67-77e71498acba"
      },
      "source": [
        "y[0:5]"
      ],
      "execution_count": 60,
      "outputs": [
        {
          "output_type": "execute_result",
          "data": {
            "text/plain": [
              "array([21, 47, 27, 75, 30])"
            ]
          },
          "metadata": {},
          "execution_count": 60
        }
      ]
    },
    {
      "cell_type": "markdown",
      "metadata": {
        "id": "iNY37FDsGkPi"
      },
      "source": [
        "**TRAINING OF DATASET**\n",
        "\n",
        "*We will now divide the dataset into train and test using built-in functions train_test_split*"
      ]
    },
    {
      "cell_type": "code",
      "metadata": {
        "id": "-OEQKZhbPSBp"
      },
      "source": [
        "x_train,x_test,y_train,y_test=train_test_split(x,y,test_size=0.2,random_state=0)"
      ],
      "execution_count": 61,
      "outputs": []
    },
    {
      "cell_type": "markdown",
      "metadata": {
        "id": "kWYsCYx9HJs8"
      },
      "source": [
        "*Now we will train the model of data using Built-in Linear Regression*"
      ]
    },
    {
      "cell_type": "code",
      "metadata": {
        "colab": {
          "base_uri": "https://localhost:8080/"
        },
        "id": "O0txH5VwPrtk",
        "outputId": "9cc0ab7e-90ea-4a9f-f18a-63555c9d236b"
      },
      "source": [
        "regressor=LinearRegression(fit_intercept=True)\n",
        "regressor.fit(x_train,y_train)\n",
        "\n"
      ],
      "execution_count": 62,
      "outputs": [
        {
          "output_type": "execute_result",
          "data": {
            "text/plain": [
              "LinearRegression(copy_X=True, fit_intercept=True, n_jobs=None, normalize=False)"
            ]
          },
          "metadata": {},
          "execution_count": 62
        }
      ]
    },
    {
      "cell_type": "code",
      "metadata": {
        "colab": {
          "base_uri": "https://localhost:8080/"
        },
        "id": "yCtw_9U0QHlS",
        "outputId": "e341f45a-79ce-4d04-b7d0-9a657e3f33fd"
      },
      "source": [
        "print(\"\\033[\\t\\tEquation of best fit line is : {:.2f}x +{:.2f}\".format(regressor.coef_[0],regressor.intercept_))"
      ],
      "execution_count": 63,
      "outputs": [
        {
          "output_type": "stream",
          "name": "stdout",
          "text": [
            "\u001b[\t\tEquation of best fit line is : 9.91x +2.02\n"
          ]
        }
      ]
    },
    {
      "cell_type": "markdown",
      "metadata": {
        "id": "GmHbXRh4Haq6"
      },
      "source": [
        "**Regression line**"
      ]
    },
    {
      "cell_type": "code",
      "metadata": {
        "id": "xzMZ9tgUUE8f"
      },
      "source": [
        "#PLOTTING THE REGRESSION LINE\n",
        "line = regressor.coef_*x+regressor.intercept_"
      ],
      "execution_count": 64,
      "outputs": []
    },
    {
      "cell_type": "code",
      "metadata": {
        "colab": {
          "base_uri": "https://localhost:8080/",
          "height": 295
        },
        "id": "VFdZFjHZQuhn",
        "outputId": "191b11a1-7c03-42a0-a8f3-60d9af64d0b3"
      },
      "source": [
        "#PLOTTING FOR THE TEST DATA\n",
        "plt.scatter(x,y)\n",
        "plt.title('best fit line')\n",
        "plt.xlabel('number of hours studied')\n",
        "plt.ylabel('percentage of marks obtained')\n",
        "plt.plot(x,line,'green')\n",
        "plt.grid()"
      ],
      "execution_count": 65,
      "outputs": [
        {
          "output_type": "display_data",
          "data": {
            "image/png": "[encoded data removed]",
            "text/plain": [
              "<Figure size 432x288 with 1 Axes>"
            ]
          },
          "metadata": {
            "needs_background": "light"
          }
        }
      ]
    },
    {
      "cell_type": "markdown",
      "metadata": {
        "id": "mI_iTBSYHqBU"
      },
      "source": [
        "**Making Prediction**"
      ]
    },
    {
      "cell_type": "markdown",
      "metadata": {
        "id": "9j60sPkBHv-M"
      },
      "source": [
        "*Prediction on 1/5 portion of dataset using predict funtion*"
      ]
    },
    {
      "cell_type": "code",
      "metadata": {
        "colab": {
          "base_uri": "https://localhost:8080/"
        },
        "id": "lwFXeAFSSL8f",
        "outputId": "946dd6db-b6d2-45a3-c29a-db281a68d969"
      },
      "source": [
        "print(x_test)  #TESTING DATA (IN HOURS)\n",
        "y_pred=regressor.predict(x_test)     #PREDICTING THE SCORES\n"
      ],
      "execution_count": 66,
      "outputs": [
        {
          "output_type": "stream",
          "name": "stdout",
          "text": [
            "[[1.5]\n",
            " [3.2]\n",
            " [7.4]\n",
            " [2.5]\n",
            " [5.9]]\n"
          ]
        }
      ]
    },
    {
      "cell_type": "markdown",
      "metadata": {
        "id": "b2XpnXKoH-d5"
      },
      "source": [
        "*To compare the results of actual scores and predicted scores we form DataFrame*"
      ]
    },
    {
      "cell_type": "code",
      "metadata": {
        "colab": {
          "base_uri": "https://localhost:8080/",
          "height": 203
        },
        "id": "HE4wQcFJV09n",
        "outputId": "5cc0f75a-3f7c-4021-c9b5-0f36d56ccdad"
      },
      "source": [
        "#COMPARING ACUAL VS PREDICTED\n",
        "df=pd.DataFrame({'actual': y_test,'predicted':y_pred})\n",
        "df"
      ],
      "execution_count": 67,
      "outputs": [
        {
          "output_type": "execute_result",
          "data": {
            "text/html": [
              "<div>\n",
              "<style scoped>\n",
              "    .dataframe tbody tr th:only-of-type {\n",
              "        vertical-align: middle;\n",
              "    }\n",
              "\n",
              "    .dataframe tbody tr th {\n",
              "        vertical-align: top;\n",
              "    }\n",
              "\n",
              "    .dataframe thead th {\n",
              "        text-align: right;\n",
              "    }\n",
              "</style>\n",
              "<table border=\"1\" class=\"dataframe\">\n",
              "  <thead>\n",
              "    <tr style=\"text-align: right;\">\n",
              "      <th></th>\n",
              "      <th>actual</th>\n",
              "      <th>predicted</th>\n",
              "    </tr>\n",
              "  </thead>\n",
              "  <tbody>\n",
              "    <tr>\n",
              "      <th>0</th>\n",
              "      <td>20</td>\n",
              "      <td>16.884145</td>\n",
              "    </tr>\n",
              "    <tr>\n",
              "      <th>1</th>\n",
              "      <td>27</td>\n",
              "      <td>33.732261</td>\n",
              "    </tr>\n",
              "    <tr>\n",
              "      <th>2</th>\n",
              "      <td>69</td>\n",
              "      <td>75.357018</td>\n",
              "    </tr>\n",
              "    <tr>\n",
              "      <th>3</th>\n",
              "      <td>30</td>\n",
              "      <td>26.794801</td>\n",
              "    </tr>\n",
              "    <tr>\n",
              "      <th>4</th>\n",
              "      <td>62</td>\n",
              "      <td>60.491033</td>\n",
              "    </tr>\n",
              "  </tbody>\n",
              "</table>\n",
              "</div>"
            ],
            "text/plain": [
              "   actual  predicted\n",
              "0      20  16.884145\n",
              "1      27  33.732261\n",
              "2      69  75.357018\n",
              "3      30  26.794801\n",
              "4      62  60.491033"
            ]
          },
          "metadata": {},
          "execution_count": 67
        }
      ]
    },
    {
      "cell_type": "markdown",
      "metadata": {
        "id": "rHcSogW7IWwZ"
      },
      "source": [
        "*We can predict scores for our own data*"
      ]
    },
    {
      "cell_type": "code",
      "metadata": {
        "colab": {
          "base_uri": "https://localhost:8080/"
        },
        "id": "3Of9ODi8SZuI",
        "outputId": "2cfd38e9-fa10-4241-dfba-8301518d8280"
      },
      "source": [
        "#TESTING WITH OUR GIVEN DATA\n",
        "hours=np.array(9.25)\n",
        "hours=hours.reshape(-1,1)\n",
        "own_pred=regressor.predict(hours)\n",
        "print(\"\\033[ no of hours = {}\".format(hours))\n",
        "print(\"\\033[ predicted score ={}\".format(own_pred[0]))"
      ],
      "execution_count": 68,
      "outputs": [
        {
          "output_type": "stream",
          "name": "stdout",
          "text": [
            "\u001b[ no of hours = [[9.25]]\n",
            "\u001b[ predicted score =93.69173248737539\n"
          ]
        }
      ]
    },
    {
      "cell_type": "markdown",
      "metadata": {
        "id": "Wxkz5CLZIgOn"
      },
      "source": [
        "# So, for a student who studies for about 9.25 hours per day the predicted percentage is 93.7% approximately."
      ]
    },
    {
      "cell_type": "markdown",
      "metadata": {
        "id": "Ojrr80nlI4O_"
      },
      "source": [
        "**Error Analysis**\n",
        "\n",
        "*Error occured in actual scores and pridicted scores*"
      ]
    },
    {
      "cell_type": "code",
      "metadata": {
        "colab": {
          "base_uri": "https://localhost:8080/"
        },
        "id": "F5h7XYbWWc9T",
        "outputId": "bd7f360b-980e-44d7-a0d4-a6acaae690ce"
      },
      "source": [
        "from sklearn import metrics\n",
        "print('mean absolute error :',\n",
        "      metrics.mean_absolute_error(y_test,y_pred))\n"
      ],
      "execution_count": 69,
      "outputs": [
        {
          "output_type": "stream",
          "name": "stdout",
          "text": [
            "mean absolute error : 4.183859899002982\n"
          ]
        }
      ]
    },
    {
      "cell_type": "markdown",
      "metadata": {
        "id": "wN-CGJFUJM0c"
      },
      "source": [
        "**THANK YOU**"
      ]
    }
  ]
}